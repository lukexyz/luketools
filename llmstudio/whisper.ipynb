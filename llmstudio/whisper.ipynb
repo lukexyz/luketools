{
 "cells": [
  {
   "cell_type": "code",
   "execution_count": 8,
   "metadata": {},
   "outputs": [],
   "source": [
    "import streamlit as st\n",
    "import openai\n",
    "import os\n",
    "from pytube import YouTube\n",
    "from moviepy.editor import VideoFileClip\n",
    "\n",
    "# Set up OpenAI API key\n",
    "openai.api_key = os.getenv(\"OPENAI_API_KEY\")\n",
    "\n",
    "# Function to download YouTube video as audio and save both mp4 and mp3\n",
    "def download_youtube(url, download_path):\n",
    "    yt = YouTube(url)\n",
    "    video_stream = yt.streams.filter(progressive=True, file_extension='mp4').order_by('resolution').desc().first()\n",
    "    mp4_file = os.path.join(download_path, yt.title + \".mp4\")\n",
    "    mp3_file = os.path.join(download_path, yt.title + \".mp3\")\n",
    "    \n",
    "    # Overwrite existing files\n",
    "    if os.path.exists(mp4_file):\n",
    "        os.remove(mp4_file)\n",
    "    if os.path.exists(mp3_file):\n",
    "        os.remove(mp3_file)\n",
    "\n",
    "    video_stream.download(output_path=download_path, filename=yt.title + \".mp4\")\n",
    "    video_clip = VideoFileClip(mp4_file)\n",
    "    video_clip.audio.write_audiofile(mp3_file, codec='libmp3lame')\n",
    "    video_clip.close()\n",
    "        \n",
    "    return mp4_file, mp3_file, yt.title"
   ]
  },
  {
   "cell_type": "code",
   "execution_count": 9,
   "metadata": {},
   "outputs": [
    {
     "name": "stdout",
     "output_type": "stream",
     "text": [
      "MoviePy - Writing audio in videos/Advanced Colab - How to go Beyond the Basics.mp3\n"
     ]
    },
    {
     "name": "stderr",
     "output_type": "stream",
     "text": [
      "                                                                        \r"
     ]
    },
    {
     "name": "stdout",
     "output_type": "stream",
     "text": [
      "MoviePy - Done.\n"
     ]
    },
    {
     "data": {
      "text/plain": [
       "('videos/Advanced Colab - How to go Beyond the Basics.mp4',\n",
       " 'videos/Advanced Colab - How to go Beyond the Basics.mp3',\n",
       " 'Advanced Colab - How to go Beyond the Basics')"
      ]
     },
     "execution_count": 9,
     "metadata": {},
     "output_type": "execute_result"
    }
   ],
   "source": [
    "download_youtube(\"https://youtu.be/ieLpZ4wnb4A?si=FMNH-fpvGvyCiBII\", download_path=\"videos/\")"
   ]
  },
  {
   "cell_type": "code",
   "execution_count": 19,
   "metadata": {},
   "outputs": [
    {
     "name": "stdout",
     "output_type": "stream",
     "text": [
      "**Audio file path**: videos/Advanced Colab - How to go Beyond the Basics.mp3\n",
      "**Audio file size**: 12.44 MB\n",
      "**Audio file length**: 13.59 minutes\n"
     ]
    }
   ],
   "source": [
    "from pydub import AudioSegment\n",
    "import os\n",
    "\n",
    "# Function to get file metadata\n",
    "def get_file_metadata(file_path):\n",
    "    audio = AudioSegment.from_mp3(file_path)\n",
    "    file_size = os.path.getsize(file_path)\n",
    "    file_length = len(audio) / 1000.0  # Duration in seconds\n",
    "    return file_size, file_length\n",
    "\n",
    "# Display file metadata\n",
    "mp3_file = \"videos/Advanced Colab - How to go Beyond the Basics.mp3\"\n",
    "audio_size, audio_length = get_file_metadata(mp3_file)\n",
    "\n",
    "print(f\"**Audio file path**: {mp3_file}\")\n",
    "print(f\"**Audio file size**: {audio_size / (1024 * 1024):.2f} MB\")\n",
    "print(f\"**Audio file length**: {audio_length / 60:.2f} minutes\")"
   ]
  },
  {
   "cell_type": "code",
   "execution_count": 21,
   "metadata": {},
   "outputs": [
    {
     "name": "stdout",
     "output_type": "stream",
     "text": [
      "**Transcript file path**: videos\\Advanced Colab - How to go Beyond the Basics.txt\n",
      "**Transcript file size**: 16.18 KB\n"
     ]
    }
   ],
   "source": [
    "\n",
    "\n",
    "transcript_size = os.path.getsize(transcript_file_path)\n",
    "print(f\"**Transcript file path**: {transcript_file_path}\")\n",
    "print(f\"**Transcript file size**: {transcript_size / 1024:.2f} KB\")\n",
    "# how many words are in the transcript\n",
    "\n"
   ]
  },
  {
   "cell_type": "code",
   "execution_count": 26,
   "metadata": {},
   "outputs": [
    {
     "name": "stdout",
     "output_type": "stream",
     "text": [
      "**Transcript file path**: videos\\Advanced Colab - How to go Beyond the Basics.txt\n",
      "**Transcript file size**: 16.18 KB\n",
      "**Transcript word count**: 2,727 words\n"
     ]
    }
   ],
   "source": [
    "import os\n",
    "import re\n",
    "\n",
    "# Function to get file metadata\n",
    "def get_file_metadata(file_path):\n",
    "    file_size = os.path.getsize(file_path)\n",
    "    with open(file_path, 'r') as file:\n",
    "        file_content = file.read()\n",
    "    \n",
    "    # Remove timestamps using regular expression\n",
    "    cleaned_content = re.sub(r'\\[\\d{1,2}:\\d{2}:\\d{2}\\]\\s*', '', file_content)\n",
    "    word_count = len(cleaned_content.split())\n",
    "    return file_size, word_count\n",
    "\n",
    "# Display file metadata\n",
    "transcript_file_path = \"videos\\Advanced Colab - How to go Beyond the Basics.txt\"\n",
    "transcript_size, word_count = get_file_metadata(transcript_file_path)\n",
    "\n",
    "print(f\"**Transcript file path**: {transcript_file_path}\")\n",
    "print(f\"**Transcript file size**: {transcript_size / 1024:.2f} KB\")\n",
    "print(f\"**Transcript word count**: {word_count:,} words\")"
   ]
  },
  {
   "cell_type": "code",
   "execution_count": null,
   "metadata": {},
   "outputs": [],
   "source": []
  }
 ],
 "metadata": {
  "kernelspec": {
   "display_name": "base",
   "language": "python",
   "name": "python3"
  },
  "language_info": {
   "codemirror_mode": {
    "name": "ipython",
    "version": 3
   },
   "file_extension": ".py",
   "mimetype": "text/x-python",
   "name": "python",
   "nbconvert_exporter": "python",
   "pygments_lexer": "ipython3",
   "version": "3.9.13"
  }
 },
 "nbformat": 4,
 "nbformat_minor": 2
}
