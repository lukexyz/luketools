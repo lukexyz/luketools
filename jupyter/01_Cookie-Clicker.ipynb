{
 "cells": [
  {
   "cell_type": "code",
   "execution_count": 1,
   "metadata": {},
   "outputs": [
    {
     "name": "stdout",
     "output_type": "stream",
     "text": [
      "Point(x=1772, y=398)\n"
     ]
    }
   ],
   "source": [
    "import pyautogui\n",
    "from tqdm.notebook import tqdm\n",
    "import pandas as pd\n",
    "import keyboard\n",
    "\n",
    "print(pyautogui.position())\n",
    "pd.options.display.float_format = '{:,.2f}'.format"
   ]
  },
  {
   "cell_type": "code",
   "execution_count": 2,
   "metadata": {},
   "outputs": [],
   "source": [
    "#!pip install pyautogui\n",
    "#!pip install keyboard"
   ]
  },
  {
   "cell_type": "code",
   "execution_count": 3,
   "metadata": {},
   "outputs": [],
   "source": [
    "# savegame1 = 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%3D%3D%21END%21"
   ]
  },
  {
   "cell_type": "markdown",
   "metadata": {},
   "source": [
    "https://pyautogui.readthedocs.io/en/latest/keyboard.html#keyboard-keys"
   ]
  },
  {
   "cell_type": "markdown",
   "metadata": {},
   "source": [
    "### Coockie `clicker`"
   ]
  },
  {
   "cell_type": "code",
   "execution_count": 4,
   "metadata": {},
   "outputs": [
    {
     "data": {
      "text/plain": [
       "Point(x=1772, y=398)"
      ]
     },
     "execution_count": 4,
     "metadata": {},
     "output_type": "execute_result"
    }
   ],
   "source": [
    "pyautogui.position()"
   ]
  },
  {
   "cell_type": "code",
   "execution_count": 5,
   "metadata": {},
   "outputs": [
    {
     "data": {
      "text/plain": [
       "Point(x=221, y=669)"
      ]
     },
     "execution_count": 5,
     "metadata": {},
     "output_type": "execute_result"
    }
   ],
   "source": [
    "pos = pyautogui.position()\n",
    "# pos = pyautogui.Point(x=-1984, y=822)\n",
    "pos"
   ]
  },
  {
   "cell_type": "code",
   "execution_count": 98,
   "metadata": {
    "scrolled": true
   },
   "outputs": [
    {
     "name": "stdout",
     "output_type": "stream",
     "text": [
      "Runtime: 0 days 09:30:20 (hold Q to exit)\n",
      "Finishes at: 2022-10-01 01:06:32.263731\n",
      "\n",
      "Early exit (q)\n",
      "\n",
      "Run for: 0 days 00:01:54.460791\n",
      "Cookies created: 354,050,000\n"
     ]
    },
    {
     "ename": "AssertionError",
     "evalue": "Manually raised error",
     "output_type": "error",
     "traceback": [
      "\u001b[1;31m---------------------------------------------------------------------------\u001b[0m",
      "\u001b[1;31mAssertionError\u001b[0m                            Traceback (most recent call last)",
      "\u001b[1;32m<timed exec>\u001b[0m in \u001b[0;36m<module>\u001b[1;34m\u001b[0m\n",
      "\u001b[1;31mAssertionError\u001b[0m: Manually raised error"
     ]
    }
   ],
   "source": [
    "%%time\n",
    "pyautogui.PAUSE = 0.01\n",
    "\n",
    "# ====================================================== #\n",
    "cval = 48500\n",
    "runtime = pd.Timedelta(hours=9, minutes=30, seconds=20)\n",
    "# ====================================================== #\n",
    "\n",
    "t0 = pd.Timestamp.now()\n",
    "tic = t0\n",
    "toc = t0 + runtime\n",
    "\n",
    "print(f'Runtime: {runtime} (hold Q to exit)')\n",
    "print(f'Finishes at: {toc}')\n",
    "c = 0\n",
    "\n",
    "while tic<toc:\n",
    "    for i in range(100):\n",
    "        pyautogui.doubleClick(pos)\n",
    "    c += cval * 100\n",
    "    tic = pd.Timestamp.now() \n",
    "\n",
    "    if keyboard.is_pressed(\"q\"): # Hold q to break\n",
    "        print('\\nEarly exit (q)')\n",
    "        print(f'\\nRun for: {tic-t0}\\nCookies created: {c:,}')\n",
    "        assert False, \"Manually raised error\"\n",
    "\n",
    "print(f'Finished in {tic-t0}')\n",
    "    "
   ]
  },
  {
   "cell_type": "code",
   "execution_count": null,
   "metadata": {},
   "outputs": [],
   "source": [
    "1.575B\n"
   ]
  },
  {
   "cell_type": "markdown",
   "metadata": {},
   "source": [
    "## 🎰 Multithreading with `fastcore`"
   ]
  },
  {
   "cell_type": "code",
   "execution_count": 13,
   "metadata": {},
   "outputs": [],
   "source": [
    "from fastcore.test import *\n",
    "from nbdev.showdoc import *\n",
    "from fastcore.nb_imports import *.\n",
    "pyautogui.PAUSE = 0.01"
   ]
  },
  {
   "cell_type": "code",
   "execution_count": 74,
   "metadata": {},
   "outputs": [
    {
     "name": "stdout",
     "output_type": "stream",
     "text": [
      "Wall time: 2 ms\n"
     ]
    },
    {
     "data": {
      "text/plain": [
       "<Thread(Thread-794, started 20504)>"
      ]
     },
     "execution_count": 74,
     "metadata": {},
     "output_type": "execute_result"
    },
    {
     "name": "stdout",
     "output_type": "stream",
     "text": [
      "0 days 00:00:00.348320\n"
     ]
    }
   ],
   "source": [
    "%%time\n",
    "pyautogui.PAUSE = 0.00\n",
    "tic = pd.Timestamp.now() \n",
    "\n",
    "@threaded\n",
    "def _1():\n",
    "    for i in range(100):\n",
    "        pyautogui.doubleClick(pos)\n",
    "\n",
    "@threaded\n",
    "def _2():\n",
    "    for i in range(100):\n",
    "        pyautogui.doubleClick(pyautogui.Point(x=-2144, y=840))\n",
    "\n",
    "@threaded\n",
    "def _3(toc=False):\n",
    "    for i in range(100):\n",
    "        pyautogui.doubleClick(pyautogui.Point(x=-2069, y=749))\n",
    "    if toc: \n",
    "        toc = pd.Timestamp.now()\n",
    "        print(toc-tic)\n",
    "    \n",
    "_1()\n",
    "_2()\n",
    "_3(toc=True)"
   ]
  },
  {
   "cell_type": "code",
   "execution_count": 56,
   "metadata": {},
   "outputs": [
    {
     "name": "stdout",
     "output_type": "stream",
     "text": [
      "0 days 00:00:00.400369\n",
      "Wall time: 400 ms\n"
     ]
    }
   ],
   "source": [
    "%%time\n",
    "tic = pd.Timestamp.now() \n",
    "for i in range(300):\n",
    "    pyautogui.doubleClick(pos)\n",
    "toc = pd.Timestamp.now()\n",
    "print(toc-tic)"
   ]
  }
 ],
 "metadata": {
  "kernelspec": {
   "display_name": "Python 3",
   "language": "python",
   "name": "python3"
  },
  "language_info": {
   "codemirror_mode": {
    "name": "ipython",
    "version": 3
   },
   "file_extension": ".py",
   "mimetype": "text/x-python",
   "name": "python",
   "nbconvert_exporter": "python",
   "pygments_lexer": "ipython3",
   "version": "3.7.4"
  },
  "toc": {
   "base_numbering": 1,
   "nav_menu": {},
   "number_sections": true,
   "sideBar": true,
   "skip_h1_title": false,
   "title_cell": "Table of Contents",
   "title_sidebar": "Contents",
   "toc_cell": false,
   "toc_position": {
    "height": "calc(100% - 180px)",
    "left": "10px",
    "top": "150px",
    "width": "165px"
   },
   "toc_section_display": true,
   "toc_window_display": true
  }
 },
 "nbformat": 4,
 "nbformat_minor": 5
}
